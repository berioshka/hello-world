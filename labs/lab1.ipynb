{
 "metadata": {
  "language_info": {
   "codemirror_mode": {
    "name": "ipython",
    "version": 3
   },
   "file_extension": ".py",
   "mimetype": "text/x-python",
   "name": "python",
   "nbconvert_exporter": "python",
   "pygments_lexer": "ipython3",
   "version": "3.8.5-final"
  },
  "orig_nbformat": 2,
  "kernelspec": {
   "name": "python38564bit40a84e698ce842599bb69c029e731d71",
   "display_name": "Python 3.8.5 64-bit"
  }
 },
 "nbformat": 4,
 "nbformat_minor": 2,
 "cells": [
  {
   "cell_type": "markdown",
   "metadata": {},
   "source": [
    "## LAB 1\n",
    "#### Asignatura: TEL252-S2-2020\n",
    "#### Docente y Autor: Berioska Contreras Vargas - berioska.contreras@usm.cl"
   ]
  },
  {
   "cell_type": "markdown",
   "metadata": {},
   "source": [
    " #### Lista : tipo de dato que representa una colección ordenada de elementos modificables, se declara usando []"
   ]
  },
  {
   "cell_type": "code",
   "execution_count": null,
   "metadata": {
    "tags": []
   },
   "outputs": [],
   "source": [
    "#\n",
    "import string\n",
    "s=[\"plebiscito\",\"Abril\",\"votar\"]\n",
    "t=string.ascii_lowercase\n",
    "print(type(s))\n",
    "print(type(t))"
   ]
  },
  {
   "cell_type": "markdown",
   "metadata": {},
   "source": [
    "#### String: en un arreglo de bytes que representa una secuencia ordenada de caracteres unicode\n",
    "#### Slice: función que retorna un rango de caracteres de acuerdo al índice del caracter"
   ]
  },
  {
   "cell_type": "code",
   "execution_count": null,
   "metadata": {
    "tags": []
   },
   "outputs": [],
   "source": [
    "print(t[:])\n",
    "print(t[0:7])\n",
    "print(t[0:25:3])\n",
    "print(t[3])\n",
    "print(t[-26:-19])"
   ]
  },
  {
   "cell_type": "markdown",
   "metadata": {},
   "source": [
    "#### For: Iteración sobre una secuencia dada"
   ]
  },
  {
   "cell_type": "code",
   "execution_count": null,
   "metadata": {
    "tags": []
   },
   "outputs": [],
   "source": [
    "if \"ñ\" not in t:\n",
    "    for i in range(len(t)):\n",
    "        print(t[i])"
   ]
  },
  {
   "cell_type": "markdown",
   "metadata": {},
   "source": [
    "#### Def - function: es un bloque de código que al ser invocado puede retornar un resultado a partir de un dato de entrada"
   ]
  },
  {
   "cell_type": "code",
   "execution_count": null,
   "metadata": {
    "tags": []
   },
   "outputs": [],
   "source": [
    "def addNumbers(a, b):\n",
    "    return a + b\n",
    "def sendParameter(stuff):\n",
    "    stuff.append('nulo')\n",
    "z = addNumbers(2, 40)\n",
    "print(z)\n",
    "m = ['acepto','rechazo']\n",
    "sendParameter(m)\n",
    "print(m)"
   ]
  },
  {
   "cell_type": "markdown",
   "metadata": {},
   "source": [
    "#### Tupla: tipo de dato que representa una colección ordenada e inmutable de elementos, se declara usando ()"
   ]
  },
  {
   "cell_type": "code",
   "execution_count": null,
   "metadata": {
    "tags": []
   },
   "outputs": [],
   "source": [
    "if \"Abril\" in s:\n",
    "    s[1] = \"Octubre\"\n",
    "    print(s)\n",
    "tpl = ('acepto', 'rechazo', 'nulo')\n",
    "for i in range(len(tpl)):\n",
    "    #tpl[i] = \"blanco\"\n",
    "    print(tpl[i])\n",
    "prt = (\"izquierda\", \"derecha\", \"centro\")\n",
    "print(type(tpl))\n",
    "mushup = tpl + prt\n",
    "print (mushup)"
   ]
  },
  {
   "cell_type": "markdown",
   "metadata": {},
   "source": [
    "####Set: tipo de dato que representa una colección desordenada que no tiene secuencia o índice, se declara usando {}"
   ]
  },
  {
   "cell_type": "code",
   "execution_count": null,
   "metadata": {
    "tags": []
   },
   "outputs": [],
   "source": [
    "dom = {'frecuencia', 'ocurrencia', 'probabilidad'}\n",
    "for i in range(len(dom)):\n",
    "    #print(dom[i])\n",
    "    print(dom)\n",
    "if \"ocurrencia\" in dom:\n",
    "    dom.remove(\"ocurrencia\")\n",
    "print(dom)"
   ]
  },
  {
   "cell_type": "markdown",
   "metadata": {},
   "source": [
    "#### Dictionary: tipo de dato que representa una colección desordenada de elementos modificables e indexados, se declara usando {} incluyendo valor y llave por cada elemento."
   ]
  },
  {
   "cell_type": "code",
   "execution_count": null,
   "metadata": {
    "tags": []
   },
   "outputs": [],
   "source": [
    "en = {\n",
    "    'let' :   ['e','t','a','o','i','n','s','r','h','d','l','u','c','m','f','y','w','g','p','b','v','k','x','q','j','z'],\n",
    "    'occ' :   [21912, 16587, 14810, 14003, 13318, 12666, 11450, 10977, 10795, 7874, 7253, 5246, 4943, 4761, 4200, 3853, 3819, 3693, 3316, 2715, 2019, 1257, 315, 205, 188, 128],\n",
    "    'frq' :   [12.02, 9.1, 8.12, 7.68, 7.31, 6.95, 6.28, 6.02, 5.92, 4.32, 3.98, 2.88, 2.71, 2.61, 2.3, 2.11, 2.09, 2.03, 1.82, 1.49, 1.11, 0.69, 0.17, 0.11, 0.1, 0.07]\n",
    "}\n",
    "for k,v in en.items():\n",
    "    print (k,v)"
   ]
  },
  {
   "cell_type": "code",
   "execution_count": null,
   "metadata": {},
   "outputs": [],
   "source": [
    "## Actividad: Desarrolle una rutina en python que permita obtener el mensaje original asociado al siguiente texto cifrado. Considere que el alfabeto inglés fue utilizado en esta substitución.\n",
    "#####\n",
    "        \"lrvmnir bpr sumvbwvr jx bpr lmiwv yjeryrkbi jx qmbm wi\",\n",
    "        \"bpr xjvni mkd ymibrut jx irhx wi bpr riirkvr jx\",\n",
    "        \"ymbinlmtmipw utn qmumbr dj w ipmhh but bj rhnvwdmbr\",\n",
    "        \"bpr yjeryrkbi jx bpr qmbm mvvjudwko bj yt\",\n",
    "        \"wkbrusurbmbwjk lmird jk xjubt trmui jx ibndt wb wi kjb\",\n",
    "        \"mk rmit bmiq bj rashmwk rmvp yjeryrkb mkd wbi\",\n",
    "        \"iwokwxwvmkvr mkd ijyr ynib urymwk nkrashmwkrd bj\",\n",
    "        \"ower m vjyshrbr rashmkmbwjk jkr cjnhd pmer bj lr\",\n",
    "        \"fnmhwxwrd mkd wkiswurd bj invp mk rabrkb bpmb pr\",\n",
    "        \"vjnhd urmvp bpr ibmbr jx rkhwopbrkrd ywkd vmsmlhr jx\",\n",
    "        \"urvjokwgwko ijnkdhrii ijnkd mkd ipmsrhrii ipmsr w dj kjb\",\n",
    "        \"drry ytirhx bpr xwkmh mnbpjuwbt lnb yt rasruwrkvr\",\n",
    "        \"cwbp qmbm pmi hrxb kj djnlb bpmb bpr xjhhjcwko wi bpr\",\n",
    "        \"sujsru msshwvmbwjk mkd wkbrusurbmwjk w jxxru yt\",\n",
    "        \"bprjuwri wk bpr pjsr bpmb bpr riirkvr jx jqwkmcmk\",\n",
    "        \"qmumbr cwhh urymwk wkbmvb\""
   ]
  }
 ]
}